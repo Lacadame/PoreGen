{
 "cells": [
  {
   "cell_type": "code",
   "execution_count": 1,
   "metadata": {},
   "outputs": [],
   "source": [
    "%load_ext autoreload\n",
    "%autoreload 2"
   ]
  },
  {
   "cell_type": "code",
   "execution_count": 2,
   "metadata": {},
   "outputs": [
    {
     "name": "stderr",
     "output_type": "stream",
     "text": [
      "/home/danilo/miniconda3/envs/ddpm_env/lib/python3.11/site-packages/tqdm/auto.py:21: TqdmWarning: IProgress not found. Please update jupyter and ipywidgets. See https://ipywidgets.readthedocs.io/en/stable/user_install.html\n",
      "  from .autonotebook import tqdm as notebook_tqdm\n"
     ]
    }
   ],
   "source": [
    "import os\n",
    "import pathlib\n",
    "\n",
    "import torch\n",
    "import numpy as np\n",
    "import matplotlib.pyplot as plt\n",
    "import lightning.pytorch.callbacks as pl_callbacks\n",
    "import yaml\n",
    "\n",
    "import poregen.data\n",
    "import poregen.features\n",
    "import poregen.models\n",
    "import poregen.trainers\n",
    "\n",
    "from poregen.features.feature_extractors import porosimetry\n",
    "import porespy"
   ]
  },
  {
   "cell_type": "code",
   "execution_count": 5,
   "metadata": {},
   "outputs": [
    {
     "name": "stdout",
     "output_type": "stream",
     "text": [
      "Working with z of shape (1, 4, 32, 32, 32) = 131072 dimensions.\n"
     ]
    },
    {
     "name": "stderr",
     "output_type": "stream",
     "text": [
      "/home/danilo/miniconda3/envs/ddpm_env/lib/python3.11/site-packages/lightning/fabric/connector.py:563: `precision=bf16` is supported for historical reasons but its usage is discouraged. Please set your precision to bf16-mixed instead!\n",
      "Using bfloat16 Automatic Mixed Precision (AMP)\n",
      "GPU available: True (cuda), used: True\n",
      "TPU available: False, using: 0 TPU cores\n",
      "IPU available: False, using: 0 IPUs\n",
      "HPU available: False, using: 0 HPUs\n",
      "`Trainer(val_check_interval=1.0)` was configured so validation will run at the end of the training epoch..\n"
     ]
    },
    {
     "name": "stdout",
     "output_type": "stream",
     "text": [
      "None CONDITION\n",
      "(1, 1, 256, 256, 256) VALID SHAPE\n",
      "(1, 1, 256, 256, 256) GENERATED SHAPE\n"
     ]
    },
    {
     "data": {
      "text/html": [
       "<pre style=\"white-space:pre;overflow-x:auto;line-height:normal;font-family:Menlo,'DejaVu Sans Mono',consolas,'Courier New',monospace\"><span style=\"color: #7fbfbf; text-decoration-color: #7fbfbf\">[14:03:56] </span><span style=\"color: #800000; text-decoration-color: #800000\">WARNING </span> throat.entry_pressure was not run since the following property is missing:       <a href=\"file:///home/danilo/miniconda3/envs/ddpm_env/lib/python3.11/site-packages/openpnm/core/_models.py\" target=\"_blank\"><span style=\"color: #7f7f7f; text-decoration-color: #7f7f7f\">_models.py</span></a><span style=\"color: #7f7f7f; text-decoration-color: #7f7f7f\">:</span><a href=\"file:///home/danilo/miniconda3/envs/ddpm_env/lib/python3.11/site-packages/openpnm/core/_models.py#480\" target=\"_blank\"><span style=\"color: #7f7f7f; text-decoration-color: #7f7f7f\">480</span></a>\n",
       "<span style=\"color: #7fbfbf; text-decoration-color: #7fbfbf\">           </span>         <span style=\"color: #008000; text-decoration-color: #008000\">'throat.surface_tension'</span>                                                         <span style=\"color: #7f7f7f; text-decoration-color: #7f7f7f\">              </span>\n",
       "</pre>\n"
      ],
      "text/plain": [
       "\u001b[2;36m[14:03:56]\u001b[0m\u001b[2;36m \u001b[0m\u001b[31mWARNING \u001b[0m throat.entry_pressure was not run since the following property is missing:       \u001b]8;id=776080;file:///home/danilo/miniconda3/envs/ddpm_env/lib/python3.11/site-packages/openpnm/core/_models.py\u001b\\\u001b[2m_models.py\u001b[0m\u001b]8;;\u001b\\\u001b[2m:\u001b[0m\u001b]8;id=625463;file:///home/danilo/miniconda3/envs/ddpm_env/lib/python3.11/site-packages/openpnm/core/_models.py#480\u001b\\\u001b[2m480\u001b[0m\u001b]8;;\u001b\\\n",
       "\u001b[2;36m           \u001b[0m         \u001b[32m'throat.surface_tension'\u001b[0m                                                         \u001b[2m              \u001b[0m\n"
      ]
     },
     "metadata": {},
     "output_type": "display_data"
    },
    {
     "data": {
      "text/html": [
       "<pre style=\"white-space:pre;overflow-x:auto;line-height:normal;font-family:Menlo,'DejaVu Sans Mono',consolas,'Courier New',monospace\"><span style=\"color: #7fbfbf; text-decoration-color: #7fbfbf\">[14:04:49] </span><span style=\"color: #800000; text-decoration-color: #800000\">WARNING </span> throat.entry_pressure was not run since the following property is missing:       <a href=\"file:///home/danilo/miniconda3/envs/ddpm_env/lib/python3.11/site-packages/openpnm/core/_models.py\" target=\"_blank\"><span style=\"color: #7f7f7f; text-decoration-color: #7f7f7f\">_models.py</span></a><span style=\"color: #7f7f7f; text-decoration-color: #7f7f7f\">:</span><a href=\"file:///home/danilo/miniconda3/envs/ddpm_env/lib/python3.11/site-packages/openpnm/core/_models.py#480\" target=\"_blank\"><span style=\"color: #7f7f7f; text-decoration-color: #7f7f7f\">480</span></a>\n",
       "<span style=\"color: #7fbfbf; text-decoration-color: #7fbfbf\">           </span>         <span style=\"color: #008000; text-decoration-color: #008000\">'throat.surface_tension'</span>                                                         <span style=\"color: #7f7f7f; text-decoration-color: #7f7f7f\">              </span>\n",
       "</pre>\n"
      ],
      "text/plain": [
       "\u001b[2;36m[14:04:49]\u001b[0m\u001b[2;36m \u001b[0m\u001b[31mWARNING \u001b[0m throat.entry_pressure was not run since the following property is missing:       \u001b]8;id=228367;file:///home/danilo/miniconda3/envs/ddpm_env/lib/python3.11/site-packages/openpnm/core/_models.py\u001b\\\u001b[2m_models.py\u001b[0m\u001b]8;;\u001b\\\u001b[2m:\u001b[0m\u001b]8;id=120620;file:///home/danilo/miniconda3/envs/ddpm_env/lib/python3.11/site-packages/openpnm/core/_models.py#480\u001b\\\u001b[2m480\u001b[0m\u001b]8;;\u001b\\\n",
       "\u001b[2;36m           \u001b[0m         \u001b[32m'throat.surface_tension'\u001b[0m                                                         \u001b[2m              \u001b[0m\n"
      ]
     },
     "metadata": {},
     "output_type": "display_data"
    }
   ],
   "source": [
    "# unconditional model\n",
    "\n",
    "cfgpath = \"/home/danilo/repos/PoreGen/configs/bps/20241202-bps-ldm-bentheimer256.yaml\"\n",
    "\n",
    "nsamples = 1\n",
    "poregen.trainers.pore_eval(\n",
    "    cfgpath,\n",
    "    'best',\n",
    "    nsamples=nsamples,\n",
    "    maximum_batch_size=1,\n",
    "    device_id=6)\n",
    "\n",
    "# fazer testing script"
   ]
  },
  {
   "cell_type": "code",
   "execution_count": 3,
   "metadata": {},
   "outputs": [],
   "source": [
    "# conditional model\n",
    "\n",
    "# cfgpath = '/home/danilo/repos/PoreGen/configs/bps/20241101-bps-ldm-9sandstones256-porosity-tpc-cond.yaml'\n",
    "\n",
    "# nsamples = 2\n",
    "# poregen.trainers.pore_eval(\n",
    "#     cfgpath,\n",
    "#     \"best\",\n",
    "#     nsamples=nsamples,\n",
    "#     maximum_batch_size=1,\n",
    "#     extractors='3d',\n",
    "#     tag='test',\n",
    "#     y='valid')"
   ]
  }
 ],
 "metadata": {
  "kernelspec": {
   "display_name": "ddpm_env",
   "language": "python",
   "name": "python3"
  },
  "language_info": {
   "codemirror_mode": {
    "name": "ipython",
    "version": 3
   },
   "file_extension": ".py",
   "mimetype": "text/x-python",
   "name": "python",
   "nbconvert_exporter": "python",
   "pygments_lexer": "ipython3",
   "version": "3.11.9"
  }
 },
 "nbformat": 4,
 "nbformat_minor": 2
}
