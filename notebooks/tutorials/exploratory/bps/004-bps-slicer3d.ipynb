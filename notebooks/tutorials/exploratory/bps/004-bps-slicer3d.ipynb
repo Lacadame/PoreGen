{
 "cells": [
  {
   "cell_type": "code",
   "execution_count": 6,
   "metadata": {},
   "outputs": [
    {
     "name": "stdout",
     "output_type": "stream",
     "text": [
      "The autoreload extension is already loaded. To reload it, use:\n",
      "  %reload_ext autoreload\n"
     ]
    }
   ],
   "source": [
    "%load_ext autoreload\n",
    "%autoreload 2"
   ]
  },
  {
   "cell_type": "code",
   "execution_count": 9,
   "metadata": {},
   "outputs": [],
   "source": [
    "import os\n",
    "import pathlib\n",
    "\n",
    "import torch\n",
    "import numpy as np\n",
    "import matplotlib.pyplot as plt\n",
    "import lightning.pytorch.callbacks as pl_callbacks\n",
    "import yaml\n",
    "\n",
    "import poregen.data\n",
    "import poregen.features\n",
    "import poregen.models\n",
    "import poregen.trainers\n",
    "import poregen.metrics\n",
    "\n",
    "import nibabel"
   ]
  },
  {
   "cell_type": "code",
   "execution_count": 22,
   "metadata": {},
   "outputs": [],
   "source": [
    "datapath = \"/home/danilo/repos/PoreGen/saveddata/raw/imperial_college/Bentheimer_1000c_3p0035um.raw\"\n",
    "voxel_size = 1000\n",
    "\n",
    "voxel = poregen.data.load_binary_from_eleven_sandstones(datapath)\n",
    "dataset = poregen.data.VoxelToSubvoxelDataset(voxel, subslice=voxel_size)"
   ]
  },
  {
   "cell_type": "code",
   "execution_count": 23,
   "metadata": {},
   "outputs": [],
   "source": [
    "vox=dataset[0]\n",
    "vox = vox.numpy()\n",
    "file = (vox > 0.5).astype(np.int16)\n",
    "\n",
    "savepath = '/home/danilo/repos/PoreGen/saveddata/bps-slicer3d/bentheimer1000.nii'\n",
    "nifti_image = nibabel.Nifti1Image(1 - file[0], np.eye(4))\n",
    "nibabel.save(nifti_image, savepath)\n"
   ]
  },
  {
   "cell_type": "code",
   "execution_count": 5,
   "metadata": {},
   "outputs": [
    {
     "data": {
      "text/plain": [
       "torch.Size([1, 1000, 1000, 1000])"
      ]
     },
     "execution_count": 5,
     "metadata": {},
     "output_type": "execute_result"
    }
   ],
   "source": [
    "vox.shape"
   ]
  }
 ],
 "metadata": {
  "kernelspec": {
   "display_name": "ddpm_env",
   "language": "python",
   "name": "python3"
  },
  "language_info": {
   "codemirror_mode": {
    "name": "ipython",
    "version": 3
   },
   "file_extension": ".py",
   "mimetype": "text/x-python",
   "name": "python",
   "nbconvert_exporter": "python",
   "pygments_lexer": "ipython3",
   "version": "undefined.undefined.undefined"
  }
 },
 "nbformat": 4,
 "nbformat_minor": 2
}
